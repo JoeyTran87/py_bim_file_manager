{
 "cells": [
  {
   "cell_type": "code",
   "execution_count": 18,
   "id": "021b41e3-2417-433e-bdb7-a33ae8d69b1c",
   "metadata": {},
   "outputs": [],
   "source": [
    "import os, json, shutil, time,datetime"
   ]
  },
  {
   "cell_type": "code",
   "execution_count": 3,
   "id": "27c8b25f-3249-4e1d-86af-d4deb43d4da9",
   "metadata": {},
   "outputs": [],
   "source": [
    "# PROGRAM HỎI USER"
   ]
  },
  {
   "cell_type": "code",
   "execution_count": 20,
   "id": "335c9286-80eb-428c-bf51-f6c19202c563",
   "metadata": {},
   "outputs": [
    {
     "name": "stdin",
     "output_type": "stream",
     "text": [
      "Nhập tên hoặc Mã nhân viên của bạn\n",
      "======  tvpduy\n",
      "Nhập chức vụ của bạn\n",
      "======  TPBIM\n"
     ]
    },
    {
     "name": "stdout",
     "output_type": "stream",
     "text": [
      "Chào TPBIM TVPDUY\n",
      "Phiên làm việc của bạn Bắt đầu vào lúc:\n",
      "======  2021-06-05 16:49:18.384147\n"
     ]
    }
   ],
   "source": [
    "askUserName  = input(\"\"\"Nhập tên hoặc Mã nhân viên của bạn\n",
    "====== \"\"\").upper()\n",
    "## ????    CHECK DANH SÁCH USER và MÃ NHÂN VIÊN ĐÃ KHAI BÁO ?????\n",
    "askUserRole  = input(\"\"\"Nhập chức vụ của bạn\n",
    "====== \"\"\").upper()\n",
    "sayHello = \"Chào {0} {1}\"\n",
    "print (sayHello.format(askUserRole,askUserName))\n",
    "startTime = datetime.datetime.now()\n",
    "print (\"\"\"Phiên làm việc của bạn Bắt đầu vào lúc:\n",
    "====== \"\"\",startTime)"
   ]
  },
  {
   "cell_type": "code",
   "execution_count": 41,
   "id": "e61be198-295d-46d2-8521-5fd573233a74",
   "metadata": {},
   "outputs": [],
   "source": [
    "# HÕI LỆNH TIẾN TRÌNH\n",
    "askServerDir  = r\"C:\\Users\\USER\\Documents\\GitHub\\cofico\\cofico\\FROM BIM MASTER TEMP 210412\\Python\\pyBIM2\\BimProjectsBool\"\n",
    "# input(\"\"\"Nhập directory server BIM project:\n",
    "# ======: \"\"\")"
   ]
  },
  {
   "cell_type": "code",
   "execution_count": 45,
   "id": "e5c876a8-7fee-4e5b-93a9-972d73254962",
   "metadata": {},
   "outputs": [
    {
     "name": "stdin",
     "output_type": "stream",
     "text": [
      "Bạn muốn thực hiện tiến trình gì:\n",
      "1. TẠO DỰ ÁN BIM MỚI\n",
      "2. MỞ DỰ ÁN BIM\n",
      "    2.1 SUBMIT MÔ HÌNH\n",
      "    2.2 DOWNLOAD MÔ HÌNH\n",
      "    2.3 HỢP NHẤT MÔ HÌNH (CONSOLIDATE / MERGE / UNION)\n",
      "3. XÓA DỰ ÁN BIM\n",
      "Q. HỦY PHIÊN\n",
      "======:  1\n"
     ]
    }
   ],
   "source": [
    "# HÕI LỆNH TIẾN TRÌNH\n",
    "askToDo  = input(\"\"\"Bạn muốn thực hiện tiến trình gì:\n",
    "1. TẠO DỰ ÁN BIM MỚI\n",
    "2. MỞ DỰ ÁN BIM\n",
    "    2.1 SUBMIT MÔ HÌNH\n",
    "    2.2 DOWNLOAD MÔ HÌNH\n",
    "    2.3 HỢP NHẤT MÔ HÌNH (CONSOLIDATE / MERGE / UNION)\n",
    "3. XÓA DỰ ÁN BIM\n",
    "Q. HỦY PHIÊN\n",
    "======: \"\"\").upper()"
   ]
  },
  {
   "cell_type": "code",
   "execution_count": 43,
   "id": "eb69ce4a-3de6-4792-b269-fbfe12349e46",
   "metadata": {},
   "outputs": [
    {
     "name": "stdin",
     "output_type": "stream",
     "text": [
      "Nhập tên dự án BIM:\n",
      "======  DuAn01\n"
     ]
    },
    {
     "name": "stdout",
     "output_type": "stream",
     "text": [
      "Dự Án đã tồn tại, Kích hoạt: Tiến trình mở dự án tại:  C:\\Users\\USER\\Documents\\GitHub\\cofico\\cofico\\FROM BIM MASTER TEMP 210412\\Python\\pyBIM2\\BimProjectsBool\\DuAn01\n"
     ]
    }
   ],
   "source": [
    "BimProjectDir = \"\"\n",
    "if askToDo == \"1\":\n",
    "    askBimProjectName = input(\"\"\"Nhập tên dự án BIM:\n",
    "====== \"\"\")\n",
    "    BimProjectDir = askServerDir+\"\\\\\"+askBimProjectName\n",
    "    checkBimProjectDirExist = os.path.exists(BimProjectDir)\n",
    "    if not checkBimProjectDirExist:\n",
    "        print(\"Dự Án chưa từng tồn tại, Tiến trình Tạo mới dự án được kích hoạt\")\n",
    "        os.mkdir(BimProjectDir) #CÁCH 1 --> TẠO THƯ MUC TRỐNG\n",
    "        #CÁCH 2 : COPY TỪ THƯ MỤC BIM TEMPLATE\n",
    "    else:\n",
    "        print(\"Dự Án đã tồn tại, Kích hoạt: Tiến trình mở dự án tại: \",BimProjectDir)\n",
    "if askToDo == \"2\":\n",
    "    askBimProjectName = input(\"\"\"Nhập tên dự án BIM:\n",
    "====== \"\"\")\n",
    "    BimProjectDir = askServerDir+\"\\\\\"+askBimProjectName\n",
    "if askToDo == \"3\":\n",
    "    askBimProjectName = input(\"\"\"Nhập tên dự án BIM:\n",
    "====== \"\"\")\n",
    "    BimProjectDir = askServerDir+\"\\\\\"+askBimProjectName\n",
    "if askToDo == \"Q\":\n",
    "    endBimWork()\n",
    "    \n",
    "#os.makedirs()  # TẠO LUÔN CÁC THƯ MỤC PARENT NẾU CHƯA TỒN TẠI"
   ]
  },
  {
   "cell_type": "code",
   "execution_count": 25,
   "id": "6c0508e0-0518-49bd-871f-333aa9629fd8",
   "metadata": {},
   "outputs": [
    {
     "name": "stdout",
     "output_type": "stream",
     "text": [
      "Phiên làm việc của bạn Kết thúc vào lúc:\n",
      "    ======  2021-06-05 16:56:15.490743\n"
     ]
    }
   ],
   "source": [
    "# KÉT THÚC PHIÊN LÀM VIỆC\n",
    "def endBimWork():\n",
    "    endTime = datetime.datetime.now()\n",
    "    print (\"\"\"Phiên làm việc của bạn Kết thúc vào lúc:\n",
    "    ====== \"\"\",endTime)\n",
    "endBimWork()"
   ]
  },
  {
   "cell_type": "code",
   "execution_count": 36,
   "id": "2dc31c38-83f0-4898-85d5-15579669cba8",
   "metadata": {},
   "outputs": [
    {
     "data": {
      "text/plain": [
       "['COPY_BUFSIZE',\n",
       " 'Error',\n",
       " 'ExecError',\n",
       " 'ReadError',\n",
       " 'RegistryError',\n",
       " 'SameFileError',\n",
       " 'SpecialFileError',\n",
       " '_ARCHIVE_FORMATS',\n",
       " '_BZ2_SUPPORTED',\n",
       " '_GiveupOnFastCopy',\n",
       " '_HAS_FCOPYFILE',\n",
       " '_LZMA_SUPPORTED',\n",
       " '_UNPACK_FORMATS',\n",
       " '_USE_CP_SENDFILE',\n",
       " '_WINDOWS',\n",
       " '_WIN_DEFAULT_PATHEXT',\n",
       " '_ZLIB_SUPPORTED',\n",
       " '__all__',\n",
       " '__builtins__',\n",
       " '__cached__',\n",
       " '__doc__',\n",
       " '__file__',\n",
       " '__loader__',\n",
       " '__name__',\n",
       " '__package__',\n",
       " '__spec__',\n",
       " '_access_check',\n",
       " '_basename',\n",
       " '_check_unpack_options',\n",
       " '_copyfileobj_readinto',\n",
       " '_copytree',\n",
       " '_copyxattr',\n",
       " '_destinsrc',\n",
       " '_ensure_directory',\n",
       " '_fastcopy_fcopyfile',\n",
       " '_fastcopy_sendfile',\n",
       " '_find_unpack_format',\n",
       " '_get_gid',\n",
       " '_get_uid',\n",
       " '_islink',\n",
       " '_make_tarball',\n",
       " '_make_zipfile',\n",
       " '_ntuple_diskusage',\n",
       " '_rmtree_isdir',\n",
       " '_rmtree_islink',\n",
       " '_rmtree_safe_fd',\n",
       " '_rmtree_unsafe',\n",
       " '_samefile',\n",
       " '_stat',\n",
       " '_unpack_tarfile',\n",
       " '_unpack_zipfile',\n",
       " '_use_fd_functions',\n",
       " 'chown',\n",
       " 'collections',\n",
       " 'copy',\n",
       " 'copy2',\n",
       " 'copyfile',\n",
       " 'copyfileobj',\n",
       " 'copymode',\n",
       " 'copystat',\n",
       " 'copytree',\n",
       " 'disk_usage',\n",
       " 'errno',\n",
       " 'fnmatch',\n",
       " 'get_archive_formats',\n",
       " 'get_terminal_size',\n",
       " 'get_unpack_formats',\n",
       " 'getgrnam',\n",
       " 'getpwnam',\n",
       " 'ignore_patterns',\n",
       " 'make_archive',\n",
       " 'move',\n",
       " 'nt',\n",
       " 'os',\n",
       " 'posix',\n",
       " 'register_archive_format',\n",
       " 'register_unpack_format',\n",
       " 'rmtree',\n",
       " 'stat',\n",
       " 'sys',\n",
       " 'unpack_archive',\n",
       " 'unregister_archive_format',\n",
       " 'unregister_unpack_format',\n",
       " 'which']"
      ]
     },
     "execution_count": 36,
     "metadata": {},
     "output_type": "execute_result"
    }
   ],
   "source": [
    "dir(os.path)\n",
    "dir(shutil)"
   ]
  },
  {
   "cell_type": "code",
   "execution_count": null,
   "id": "2639840d-353d-4d5c-b04e-5d0d3d34de3a",
   "metadata": {},
   "outputs": [],
   "source": []
  }
 ],
 "metadata": {
  "kernelspec": {
   "display_name": "Python 3",
   "language": "python",
   "name": "python3"
  },
  "language_info": {
   "codemirror_mode": {
    "name": "ipython",
    "version": 3
   },
   "file_extension": ".py",
   "mimetype": "text/x-python",
   "name": "python",
   "nbconvert_exporter": "python",
   "pygments_lexer": "ipython3",
   "version": "3.9.1"
  }
 },
 "nbformat": 4,
 "nbformat_minor": 5
}
