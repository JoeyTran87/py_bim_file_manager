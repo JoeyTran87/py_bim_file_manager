{
 "cells": [
  {
   "cell_type": "code",
   "execution_count": 1,
   "id": "bdd71a0b-d161-4199-9bdf-af3b679145f0",
   "metadata": {},
   "outputs": [],
   "source": [
    "import pandas as pd\n",
    "import numpy as np\n",
    "import os, sys, json"
   ]
  },
  {
   "cell_type": "code",
   "execution_count": null,
   "id": "bb42e24b-5f16-4394-8c1b-3c3316416178",
   "metadata": {},
   "outputs": [],
   "source": [
    "#DATA MÓNG\n",
    "FD_dat_path = r\"R:\\BimESC\\01_PROJECTS\\MARUBENI SOLUBE\\02-WIP 2\\MARS-S-ZZ-ZZ-FD-FP-FOUNDATION FLOOR PLAN.txt\"\n",
    "FD_dat = pd.read_csv()"
   ]
  }
 ],
 "metadata": {
  "kernelspec": {
   "display_name": "Python 3",
   "language": "python",
   "name": "python3"
  },
  "language_info": {
   "codemirror_mode": {
    "name": "ipython",
    "version": 3
   },
   "file_extension": ".py",
   "mimetype": "text/x-python",
   "name": "python",
   "nbconvert_exporter": "python",
   "pygments_lexer": "ipython3",
   "version": "3.9.2"
  }
 },
 "nbformat": 4,
 "nbformat_minor": 5
}
