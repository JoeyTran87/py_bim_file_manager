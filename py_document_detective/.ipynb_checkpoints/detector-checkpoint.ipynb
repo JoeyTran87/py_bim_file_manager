{
 "cells": [
  {
   "cell_type": "code",
   "execution_count": 1,
   "id": "5b71c98e-254d-4f34-9478-83c794301d1c",
   "metadata": {
    "tags": []
   },
   "outputs": [],
   "source": [
    "import docx #python-docx module\n",
    "from docx import Document\n",
    "import os"
   ]
  },
  {
   "cell_type": "code",
   "execution_count": 9,
   "id": "2f1fc6fd-baa9-4c21-bc6b-57f26551e6ec",
   "metadata": {},
   "outputs": [],
   "source": [
    "word_file_path = r\"F:\\_NGHIEN CUU\\_Github\\py_bim_file_manager\\py_document_detective\\source_doc\\1.8_General Requirements.docx\""
   ]
  },
  {
   "cell_type": "code",
   "execution_count": 11,
   "id": "f0cd8cc6",
   "metadata": {},
   "outputs": [],
   "source": [
    "doc = Document(word_file_path)"
   ]
  },
  {
   "cell_type": "code",
   "execution_count": 5,
   "id": "379491d1",
   "metadata": {},
   "outputs": [
    {
     "data": {
      "text/plain": [
       "[<docx.text.paragraph.Paragraph at 0x2cfaccb3df0>]"
      ]
     },
     "execution_count": 5,
     "metadata": {},
     "output_type": "execute_result"
    }
   ],
   "source": [
    "content = doc.paragraphs\n",
    "content"
   ]
  },
  {
   "cell_type": "code",
   "execution_count": 6,
   "id": "030f92d1",
   "metadata": {},
   "outputs": [
    {
     "data": {
      "text/plain": [
       "'\\n'"
      ]
     },
     "execution_count": 6,
     "metadata": {},
     "output_type": "execute_result"
    }
   ],
   "source": [
    "content_str = \"\"\n",
    "for line in content:\n",
    "    content_str += line.text + \"\\n\"\n",
    "content_str"
   ]
  },
  {
   "cell_type": "code",
   "execution_count": 7,
   "id": "44d9704f",
   "metadata": {},
   "outputs": [
    {
     "data": {
      "text/plain": [
       "'\\n'"
      ]
     },
     "execution_count": 7,
     "metadata": {},
     "output_type": "execute_result"
    }
   ],
   "source": [
    "content_str = content_str.lower()\n",
    "content_str"
   ]
  },
  {
   "cell_type": "code",
   "execution_count": 8,
   "id": "53e52b6b",
   "metadata": {},
   "outputs": [
    {
     "name": "stdout",
     "output_type": "stream",
     "text": [
      "No\n"
     ]
    }
   ],
   "source": [
    "key_word = \"BIM\"\n",
    "if key_word.lower() in content_str:\n",
    "    print (\"Yes\")\n",
    "else:\n",
    "    print(\"No\")"
   ]
  }
 ],
 "metadata": {
  "interpreter": {
   "hash": "23300995598eec4bcf6bd89cf02d1c3675e8b2616661418dbbf5580aa901878d"
  },
  "kernelspec": {
   "display_name": "Python 3",
   "language": "python",
   "name": "python3"
  },
  "language_info": {
   "codemirror_mode": {
    "name": "ipython",
    "version": 3
   },
   "file_extension": ".py",
   "mimetype": "text/x-python",
   "name": "python",
   "nbconvert_exporter": "python",
   "pygments_lexer": "ipython3",
   "version": "3.9.1"
  }
 },
 "nbformat": 4,
 "nbformat_minor": 5
}
